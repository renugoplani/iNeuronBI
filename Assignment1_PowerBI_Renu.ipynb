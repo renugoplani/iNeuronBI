{
 "cells": [
  {
   "cell_type": "markdown",
   "metadata": {},
   "source": [
    "# Install Power BI Desktop and share the final screenshot of the report view page which appears when power desktop starts."
   ]
  },
  {
   "cell_type": "markdown",
   "metadata": {},
   "source": [
    "<img src=\"images/powerBI_As1_Image1.jpg\" />"
   ]
  },
  {
   "cell_type": "markdown",
   "metadata": {},
   "source": [
    "# Prepare a document and with the following screenshot\n",
    "− Report View <br>\n",
    "− Data View <br>\n",
    "− Model View <br>\n",
    "− Power Query Editor <br>\n",
    "− Advance Editor <br>"
   ]
  },
  {
   "cell_type": "markdown",
   "metadata": {},
   "source": [
    "<a href=\"https://github.com/renugoplani/iNeuronBI/blob/master/AssignmentDocs/PowerBI_Assignment1_Doc1.pdf\">Here is the link for Document</a>"
   ]
  },
  {
   "cell_type": "markdown",
   "metadata": {},
   "source": [
    "# Prepare a document with details of the following along with their price\n",
    "− Power BI Desktop <br>\n",
    "− Power BI Pro <br>\n",
    "− Power BI Premium"
   ]
  },
  {
   "cell_type": "markdown",
   "metadata": {},
   "source": [
    "<img src=\"images/powerBI_As1_Image2.jpg\" />"
   ]
  },
  {
   "cell_type": "code",
   "execution_count": null,
   "metadata": {},
   "outputs": [],
   "source": []
  }
 ],
 "metadata": {
  "kernelspec": {
   "display_name": "Python 3",
   "language": "python",
   "name": "python3"
  },
  "language_info": {
   "codemirror_mode": {
    "name": "ipython",
    "version": 3
   },
   "file_extension": ".py",
   "mimetype": "text/x-python",
   "name": "python",
   "nbconvert_exporter": "python",
   "pygments_lexer": "ipython3",
   "version": "3.7.6"
  }
 },
 "nbformat": 4,
 "nbformat_minor": 4
}
