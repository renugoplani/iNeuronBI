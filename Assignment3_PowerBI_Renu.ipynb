{
 "cells": [
  {
   "cell_type": "markdown",
   "metadata": {},
   "source": [
    "# Use the Employee Details dataset and perform the following activities: -\n",
    "## 1. Split the column CITY and separate the code associate with each city like - Allahabad[AL2] should be only Allahabad and [A2] will be separate."
   ]
  },
  {
   "cell_type": "markdown",
   "metadata": {},
   "source": [
    "Step 1. I used 'Split column' by Delimiter = [ <br>\n",
    "Step 2: I got two columns but delimiter '[' was lost in second column. To regain it, I wrote below query to add a custom column <br>Text.Insert([City Code],0,\"[\")\n"
   ]
  },
  {
   "cell_type": "markdown",
   "metadata": {},
   "source": [
    "<img src=\"images/powerBI_As3_Image1.jpg\" />"
   ]
  },
  {
   "cell_type": "markdown",
   "metadata": {},
   "source": [
    "## 2. Extract the first name from EMPLOYEE NAME column and transform the column"
   ]
  },
  {
   "cell_type": "markdown",
   "metadata": {},
   "source": [
    "<img src=\"images/powerBI_As3_Image2.jpg\" />"
   ]
  },
  {
   "cell_type": "markdown",
   "metadata": {},
   "source": [
    "## 3. Using the JOINING DATE column extract the Year and no. of days for that month"
   ]
  },
  {
   "cell_type": "markdown",
   "metadata": {},
   "source": [
    "<img src=\"images/powerBI_As3_Image3.jpg\" />"
   ]
  },
  {
   "cell_type": "markdown",
   "metadata": {},
   "source": [
    "# 4. Create a visual of your choice and show the how much salary has been paid to each state and which state has lowest payout.\n",
    "\n",
    "\n",
    "I used Line and Stack chart which shows that Assam and Chandigarh have least Salaries (570K)"
   ]
  },
  {
   "cell_type": "markdown",
   "metadata": {},
   "source": [
    "<img src=\"images/powerBI_As3_Image4.jpg\" />"
   ]
  }
 ],
 "metadata": {
  "kernelspec": {
   "display_name": "Python 3",
   "language": "python",
   "name": "python3"
  },
  "language_info": {
   "codemirror_mode": {
    "name": "ipython",
    "version": 3
   },
   "file_extension": ".py",
   "mimetype": "text/x-python",
   "name": "python",
   "nbconvert_exporter": "python",
   "pygments_lexer": "ipython3",
   "version": "3.7.6"
  }
 },
 "nbformat": 4,
 "nbformat_minor": 4
}
